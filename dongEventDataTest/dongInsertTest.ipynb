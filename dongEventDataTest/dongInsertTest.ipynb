{
 "cells": [
  {
   "cell_type": "code",
   "execution_count": 2,
   "id": "initial_id",
   "metadata": {
    "collapsed": true,
    "ExecuteTime": {
     "end_time": "2024-11-08T08:29:56.564825400Z",
     "start_time": "2024-11-08T08:29:53.798072Z"
    }
   },
   "outputs": [],
   "source": [
    "from pyhwpx import Hwp\n",
    "\n",
    "try:\n",
    "    hwp = Hwp()\n",
    "    if not hwp.Open(r\"../template2.hwp\"): # 주간행사계획 한글파일 상대경로:\n",
    "        raise FileNotFoundError(\"파일을 열 수 없습니다. 경로를 다시 확인하세요.\")\n",
    "except FileNotFoundError as e:\n",
    "    print(f\"예외 발생: {e}\")\n",
    "except Exception as e:\n",
    "    print(f\"예상치 못한 오류 발생: {e}\")\n",
    "finally:\n",
    "    # 필요시 정리 작업 (예: 객체 닫기 등)\n",
    "    pass\n",
    "\n",
    "# 얘는  맨날쓰네 약간 경로를 설정하면 해당 한글 파일 여는 함수로 만들어야되나"
   ]
  },
  {
   "cell_type": "code",
   "execution_count": null,
   "outputs": [],
   "source": [],
   "metadata": {
    "collapsed": false
   },
   "id": "e40e8e7f0d82ef19"
  }
 ],
 "metadata": {
  "kernelspec": {
   "display_name": "Python 3",
   "language": "python",
   "name": "python3"
  },
  "language_info": {
   "codemirror_mode": {
    "name": "ipython",
    "version": 2
   },
   "file_extension": ".py",
   "mimetype": "text/x-python",
   "name": "python",
   "nbconvert_exporter": "python",
   "pygments_lexer": "ipython2",
   "version": "2.7.6"
  }
 },
 "nbformat": 4,
 "nbformat_minor": 5
}
