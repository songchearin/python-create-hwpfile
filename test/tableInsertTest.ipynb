{
 "cells": [
  {
   "cell_type": "raw",
   "source": [
    "추가해야할 코드 \n",
    "1. tamplate.hwp 복사해서 그 한글파일을 여는 코드\n",
    "    tamplate.hwp는 양식이고 이건 건들지말고 이걸 복사해서 사용해야함\n",
    "    안그러면 time 필드가 imsi필드로 바뀐상태로 tamplate이 저장됨 \n",
    "    이거때문에 이상하게 데이터가 삽입된다\n",
    "    \n",
    "2. 혹은 처음에 초기화할때 time 필드로 초기화 시켜주는 코드를 작성한다\n",
    "\n",
    "\n",
    "# 실행시 주의점 \n",
    "    tamplate 형식의 한글파일을 사용해야함\n",
    "    - date마다 행사데이터 row가 두개씩 있는 형식"
   ],
   "metadata": {
    "collapsed": false
   },
   "id": "73e57deb4711e94"
  },
  {
   "cell_type": "code",
   "execution_count": 36,
   "outputs": [],
   "source": [
    "# MIT License\n",
    "# \n",
    "# Copyright (c) 2024 [저작권자 이름]\n",
    "# \n",
    "# This software is released under the MIT License.\n",
    "# https://opensource.org/licenses/MIT\n"
   ],
   "metadata": {
    "collapsed": false,
    "ExecuteTime": {
     "end_time": "2024-11-10T07:11:16.334621900Z",
     "start_time": "2024-11-10T07:11:16.182021200Z"
    }
   },
   "id": "4fe07a310641c4c7"
  },
  {
   "cell_type": "code",
   "execution_count": 36,
   "outputs": [],
   "source": [],
   "metadata": {
    "collapsed": false,
    "ExecuteTime": {
     "end_time": "2024-11-10T07:11:16.335683600Z",
     "start_time": "2024-11-10T07:11:16.187363Z"
    }
   },
   "id": "a9c502bc414f192f"
  },
  {
   "cell_type": "code",
   "execution_count": 37,
   "id": "initial_id",
   "metadata": {
    "collapsed": true,
    "ExecuteTime": {
     "end_time": "2024-11-10T07:11:16.473617200Z",
     "start_time": "2024-11-10T07:11:16.190816900Z"
    }
   },
   "outputs": [
    {
     "data": {
      "text/plain": "True"
     },
     "execution_count": 37,
     "metadata": {},
     "output_type": "execute_result"
    }
   ],
   "source": [
    "from pyhwpx import Hwp\n",
    "import win32com.client as win32\n",
    "import pandas as pd\n",
    "hwp = Hwp()\n",
    "hwp.Open(r\"../template2_Copy.hwp\") # 주간행사계획 한글파일 상대경로"
   ]
  },
  {
   "cell_type": "code",
   "execution_count": 38,
   "outputs": [],
   "source": [
    "#전체를 time필드로 만들고 rowappend하면 안됨 -> row가 바뀔때마다 time field인덱스값도 변경됨\n",
    "\n",
    "#처음  time column  필드값 지워놓기\n",
    "\n",
    "def time_column_initail(): \n",
    "    hwp.set_pos(15,0,0)\n",
    "    hwp.TableCellBlock() #그냥 테이블 셀 선택\n",
    "    hwp.TableCellBlockExtend() #선택된셀에서 f5누른거랑 같은 기능\n",
    "    hwp.TableColPageDown()\n",
    "    hwp.set_cur_field_name(\"\")   \n",
    "time_column_initail()\n",
    "#시간 column 전부다 선택하는 기능"
   ],
   "metadata": {
    "collapsed": false,
    "ExecuteTime": {
     "end_time": "2024-11-10T07:11:16.480866600Z",
     "start_time": "2024-11-10T07:11:16.283703800Z"
    }
   },
   "id": "9ca052b1196dc4e7"
  },
  {
   "cell_type": "code",
   "execution_count": 39,
   "outputs": [
    {
     "name": "stdout",
     "output_type": "stream",
     "text": [
      "(15, 0, 1)\n",
      "(28, 0, 1)\n",
      "(41, 0, 1)\n",
      "(54, 0, 1)\n",
      "(67, 0, 1)\n",
      "(80, 0, 1)\n",
      "(93, 0, 1)\n"
     ]
    }
   ],
   "source": [
    "for i in range (7):\n",
    "    hwp.set_pos(15+i*13,0,0)\n",
    "    print(hwp.get_pos())\n",
    "    #근데 같은 월일안에서 TableLowerCell()을 실행하면 list값이 6씩증가하고 \n",
    "# TableLowerCell()을 실행했을때 다른 월일 row로 넘어가면 +7이 된다\n",
    "#이건 무조건 젤처음으로 실행해야됨\n",
    "#15 -> 28\n",
    "\n",
    "\n"
   ],
   "metadata": {
    "collapsed": false,
    "ExecuteTime": {
     "end_time": "2024-11-10T07:11:16.651681Z",
     "start_time": "2024-11-10T07:11:16.433692800Z"
    }
   },
   "id": "b856e44f71c7dd93"
  },
  {
   "cell_type": "markdown",
   "source": [
    "해결해야할 문제 3\n",
    "한컬럼을 전부 date필드로 정한다음 row를 추가하는 함수에서 index를 +1만큼씩 더 가기\n",
    "vs \n",
    "그냥 setpos로 해당 위치에 있는 셀에 필드값 설정하기\n",
    "\n",
    "후자로 설정함 -> 전자 방식은 index값이 변화하기때문에 하면 안됨"
   ],
   "metadata": {
    "collapsed": false
   },
   "id": "21549975db339a52"
  },
  {
   "cell_type": "code",
   "execution_count": 40,
   "outputs": [],
   "source": [
    "# hwp.get_pos() # 위치\n",
    "# \n",
    "# def cell_initialize():\n",
    "#     hwp.set_pos(15,0,0) # 첫번째 시작셀\n",
    "#     hwp.set_cur_field_name(\"time\")\n",
    "#     for i in range()\n",
    "#         "
   ],
   "metadata": {
    "collapsed": false,
    "ExecuteTime": {
     "end_time": "2024-11-10T07:11:16.675931900Z",
     "start_time": "2024-11-10T07:11:16.652020700Z"
    }
   },
   "id": "40dda1bd852d8b98"
  },
  {
   "cell_type": "code",
   "execution_count": 41,
   "outputs": [
    {
     "data": {
      "text/plain": "         date      time                     eventname        place personnel  \\\n14  4. 13.(토)  10:00:00   ·2024년 특성화 사업 제1회차‘인문학 콘서트’  유성문화원 1층전시실       30명   \n15  4. 13.(토)  10:00:00         ·행복한 문화학교 「햄스터 로봇 코딩」        유성도서관       14명   \n16  4. 13.(토)  15:00:00    ·노은도서관 동화 들려주기(Story Time)        노은도서관       40명   \n17  4. 13.(토)  15:00:00  ·독서프로그램 「귀 기울여 영어동화」 영어원서 읽기   어린이영어마을도서관       10명   \n18  4. 14.(일)                                                                  \n\n   department note  \n14      문화관광과       \n15     도서관운영과       \n16     도서관운영과       \n17     도서관운영과       \n18                  ",
      "text/html": "<div>\n<style scoped>\n    .dataframe tbody tr th:only-of-type {\n        vertical-align: middle;\n    }\n\n    .dataframe tbody tr th {\n        vertical-align: top;\n    }\n\n    .dataframe thead th {\n        text-align: right;\n    }\n</style>\n<table border=\"1\" class=\"dataframe\">\n  <thead>\n    <tr style=\"text-align: right;\">\n      <th></th>\n      <th>date</th>\n      <th>time</th>\n      <th>eventname</th>\n      <th>place</th>\n      <th>personnel</th>\n      <th>department</th>\n      <th>note</th>\n    </tr>\n  </thead>\n  <tbody>\n    <tr>\n      <th>14</th>\n      <td>4. 13.(토)</td>\n      <td>10:00:00</td>\n      <td>·2024년 특성화 사업 제1회차‘인문학 콘서트’</td>\n      <td>유성문화원 1층전시실</td>\n      <td>30명</td>\n      <td>문화관광과</td>\n      <td></td>\n    </tr>\n    <tr>\n      <th>15</th>\n      <td>4. 13.(토)</td>\n      <td>10:00:00</td>\n      <td>·행복한 문화학교 「햄스터 로봇 코딩」</td>\n      <td>유성도서관</td>\n      <td>14명</td>\n      <td>도서관운영과</td>\n      <td></td>\n    </tr>\n    <tr>\n      <th>16</th>\n      <td>4. 13.(토)</td>\n      <td>15:00:00</td>\n      <td>·노은도서관 동화 들려주기(Story Time)</td>\n      <td>노은도서관</td>\n      <td>40명</td>\n      <td>도서관운영과</td>\n      <td></td>\n    </tr>\n    <tr>\n      <th>17</th>\n      <td>4. 13.(토)</td>\n      <td>15:00:00</td>\n      <td>·독서프로그램 「귀 기울여 영어동화」 영어원서 읽기</td>\n      <td>어린이영어마을도서관</td>\n      <td>10명</td>\n      <td>도서관운영과</td>\n      <td></td>\n    </tr>\n    <tr>\n      <th>18</th>\n      <td>4. 14.(일)</td>\n      <td></td>\n      <td></td>\n      <td></td>\n      <td></td>\n      <td></td>\n      <td></td>\n    </tr>\n  </tbody>\n</table>\n</div>"
     },
     "execution_count": 41,
     "metadata": {},
     "output_type": "execute_result"
    }
   ],
   "source": [
    "#데이터 전처리\n",
    "df = pd.read_excel(r\"../eventdummy.xlsx\")\n",
    "#엑셀에서 더미데이터 read\n",
    "df = df.replace(r'\\n', '', regex=True)\n",
    "# 데이터안에 \\n 다지우기\n",
    "\n",
    "df = df.fillna(\" \")  # NaN 값을 으로 채우기\n",
    "df.tail()"
   ],
   "metadata": {
    "collapsed": false,
    "ExecuteTime": {
     "end_time": "2024-11-10T07:11:16.739578Z",
     "start_time": "2024-11-10T07:11:16.659766800Z"
    }
   },
   "id": "1a649d650094cd15"
  },
  {
   "cell_type": "code",
   "execution_count": 42,
   "outputs": [
    {
     "data": {
      "text/plain": "date\n4. 13.(토)     6\n4. 11.(목)     4\n4. 8.(월)      3\n4. 12. (금)    2\n4. 9.(화)      2\n4. 10.(수)     1\n4. 14.(일)     1\nName: count, dtype: int64"
     },
     "execution_count": 42,
     "metadata": {},
     "output_type": "execute_result"
    }
   ],
   "source": [
    "date_counts = df['date'].value_counts()\n",
    "date_counts"
   ],
   "metadata": {
    "collapsed": false,
    "ExecuteTime": {
     "end_time": "2024-11-10T07:11:16.742444300Z",
     "start_time": "2024-11-10T07:11:16.718133Z"
    }
   },
   "id": "327f6705e31aeb2"
  },
  {
   "cell_type": "code",
   "execution_count": 43,
   "outputs": [
    {
     "name": "stdout",
     "output_type": "stream",
     "text": [
      "         date  count\n",
      "0    4. 8.(월)      3\n",
      "1    4. 9.(화)      2\n",
      "2   4. 10.(수)      1\n",
      "3   4. 11.(목)      4\n",
      "4  4. 12. (금)      2\n",
      "5   4. 13.(토)      6\n",
      "6   4. 14.(일)      1\n"
     ]
    }
   ],
   "source": [
    "import re\n",
    "#위에처럼 count순으로 sort된다 \n",
    "#string 날짜데이터를 날짜순으로 sort하는 코드\n",
    "date_counts = df['date'].value_counts().reset_index()\n",
    "date_counts.columns = ['date', 'count']  # 열 이름 지정\n",
    "\n",
    "# 월과 일만 추출하는 함수 정의\n",
    "def extract_month_day(date_str):\n",
    "    match = re.search(r'(\\d+)\\.\\s*(\\d+)', date_str)\n",
    "    if match:\n",
    "        return int(match.group(1)), int(match.group(2))  # 월, 일 반환\n",
    "    return None\n",
    "\n",
    "# 'month', 'day' 열 추가\n",
    "date_counts[['month', 'day']] = date_counts['date'].apply(lambda x: pd.Series(extract_month_day(x)))\n",
    "\n",
    "# 월과 일 기준으로 정렬\n",
    "date_counts = date_counts.sort_values(by=['month', 'day']).drop(columns=['month', 'day']).reset_index(drop=True)\n",
    "\n",
    "#date 컬럼만\n",
    "date_column_df = date_counts[['date']]\n",
    "\n",
    "# 정렬된 결과 출력\n",
    "print(date_counts)"
   ],
   "metadata": {
    "collapsed": false,
    "ExecuteTime": {
     "end_time": "2024-11-10T07:11:16.813458800Z",
     "start_time": "2024-11-10T07:11:16.732211800Z"
    }
   },
   "id": "7c109edbeebca7"
  },
  {
   "cell_type": "markdown",
   "source": [
    "#데이터 갯수만큼 열 만듦 \n",
    "위에 코드 실행하면\n",
    "date 마다 데이터 갯수가 뜨는데\n",
    "해당 데이터 갯수만큼 열을 나눠주는 코드 "
   ],
   "metadata": {
    "collapsed": false
   },
   "id": "fa41b95b561471fa"
  },
  {
   "cell_type": "code",
   "execution_count": 44,
   "outputs": [
    {
     "name": "stdout",
     "output_type": "stream",
     "text": [
      "0\n",
      "0: append\n",
      "1\n",
      "2\n",
      "2: delete\n",
      "3\n",
      "3: append\n",
      "3: append\n",
      "4\n",
      "5\n",
      "5: append\n",
      "5: append\n",
      "5: append\n",
      "5: append\n",
      "6\n",
      "6: delete\n"
     ]
    }
   ],
   "source": [
    "# print(count_value)\n",
    "\n",
    "\n",
    "for index, row in date_counts.iterrows():\n",
    "    pset = hwp.HParameterSet.HTableDeleteLine\n",
    "    hwp.move_to_field(f'time{{{{{index}}}}}')\n",
    "    print(index)\n",
    "    count = row['count']\n",
    "    \n",
    "    if count>2 :\n",
    "        for i in range(count - 2):\n",
    "            hwp.TableAppendRow()\n",
    "            print(f\"{index}\" + \": append\" )\n",
    "    elif (count == 2):\n",
    "        continue\n",
    "    else :\n",
    "        hwp.TableLowerCell()\n",
    "        hwp.HAction.GetDefault(\"TableDeleteRow\", pset.HSet)\n",
    "        #TLqkf\n",
    "        hwp.HAction.Execute(\"TableDeleteRow\", pset.HSet)\n",
    "        print(f\"{index}\"+\": delete\" )\n",
    "        \n",
    "        \n",
    "    "
   ],
   "metadata": {
    "collapsed": false,
    "ExecuteTime": {
     "end_time": "2024-11-10T07:11:17.146711700Z",
     "start_time": "2024-11-10T07:11:16.752031400Z"
    }
   },
   "id": "f79255e2e552862a"
  },
  {
   "cell_type": "markdown",
   "source": [],
   "metadata": {
    "collapsed": false
   },
   "id": "53cf1c33400b190e"
  },
  {
   "cell_type": "markdown",
   "source": [
    "date제외 데이터를 전부 삽입함"
   ],
   "metadata": {
    "collapsed": false
   },
   "id": "30fda554c70125a5"
  },
  {
   "cell_type": "code",
   "execution_count": 45,
   "outputs": [],
   "source": [
    "#date 제외 데이터 넣기\n",
    "df_no_date = df.drop(columns=['date'])\n",
    "hwp.set_pos(15,0,0)\n",
    "# 셀 전부 선택하는 코드 ->\n",
    "hwp.TableCellBlock()\n",
    "hwp.TableCellBlockExtend()\n",
    "hwp.TableColEnd()\n",
    "hwp.TableColPageDown()\n",
    "# 선택된 셀을 imsi필드로 바꾸고 \n",
    "hwp.set_cur_field_name(\"imsi\")\n",
    "\n",
    "hwp.put_field_text(\"imsi\", df_no_date.values.flatten().tolist())\n"
   ],
   "metadata": {
    "collapsed": false,
    "ExecuteTime": {
     "end_time": "2024-11-10T07:11:17.395499700Z",
     "start_time": "2024-11-10T07:11:17.139845300Z"
    }
   },
   "id": "f8d7ddbfa0ae6c4"
  },
  {
   "cell_type": "markdown",
   "source": [
    "date컬럼에 date값들 집어넣는 코드    (주의사항 : 한글의 월일 column에 셀 필드값이 date로 되어야함)"
   ],
   "metadata": {
    "collapsed": false
   },
   "id": "95e997727fe02ffa"
  },
  {
   "cell_type": "code",
   "execution_count": 46,
   "outputs": [
    {
     "name": "stdout",
     "output_type": "stream",
     "text": [
      "4. 8.(월)\n",
      "4. 9.(화)\n",
      "4. 10.(수)\n",
      "4. 11.(목)\n",
      "4. 12. (금)\n",
      "4. 13.(토)\n",
      "4. 14.(일)\n"
     ]
    }
   ],
   "source": [
    "# date 데이터 넣기\n",
    "for index, row in date_column_df.iterrows():\n",
    "    hwp.move_to_field(f'date{{{{{index}}}}}')\n",
    "    hwp.insert_text(row['date'])\n",
    "    print(row['date'])"
   ],
   "metadata": {
    "collapsed": false,
    "ExecuteTime": {
     "end_time": "2024-11-10T07:11:17.725814800Z",
     "start_time": "2024-11-10T07:11:17.397809300Z"
    }
   },
   "id": "7514e5ccdf9e02f0"
  },
  {
   "cell_type": "code",
   "execution_count": 47,
   "outputs": [],
   "source": [
    "#hwp.MoveToField(\"date\", True, True, False)\n",
    "#-> 왜인지 모르겠지만 첫번쨰 date로 가진다 ㅇㅇ\n",
    "#hwp.TableSplitCell()\n",
    "# 표 나누기"
   ],
   "metadata": {
    "collapsed": false,
    "ExecuteTime": {
     "end_time": "2024-11-10T07:11:17.726296700Z",
     "start_time": "2024-11-10T07:11:17.716192600Z"
    }
   },
   "id": "f35b1ff03d856bab"
  },
  {
   "cell_type": "code",
   "execution_count": 48,
   "outputs": [],
   "source": [
    "# 적었던 필요없는 코드들\n",
    "# times = (df['time'])\n",
    "# for index,time in enumerate(times):\n",
    "#     print(index , time)\n",
    "#     hwp.put_field_text(\"time\",f\"{time}\",index)\n",
    "\n",
    "        # for i in range(7):\n",
    "#     \n",
    "#     hwp.move_to_field(f'time{{{{{i}}}}}')\n",
    "#     hwp.insert_text(f\"{i}\")\n",
    "        "
   ],
   "metadata": {
    "collapsed": false,
    "ExecuteTime": {
     "end_time": "2024-11-10T07:11:17.738348800Z",
     "start_time": "2024-11-10T07:11:17.725814800Z"
    }
   },
   "id": "e72d6a45c3029732"
  }
 ],
 "metadata": {
  "kernelspec": {
   "display_name": "Python 3",
   "language": "python",
   "name": "python3"
  },
  "language_info": {
   "codemirror_mode": {
    "name": "ipython",
    "version": 2
   },
   "file_extension": ".py",
   "mimetype": "text/x-python",
   "name": "python",
   "nbconvert_exporter": "python",
   "pygments_lexer": "ipython2",
   "version": "2.7.6"
  }
 },
 "nbformat": 4,
 "nbformat_minor": 5
}
